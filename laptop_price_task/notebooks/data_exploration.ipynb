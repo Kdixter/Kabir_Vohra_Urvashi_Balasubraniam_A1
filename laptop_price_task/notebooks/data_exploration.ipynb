{
 "cells": [
  {
   "cell_type": "code",
   "execution_count": null,
   "id": "a802de10",
   "metadata": {},
   "outputs": [],
   "source": [
    "# checking data correlations\n",
    "import pandas as pd\n",
    "import os\n",
    "\n",
    "def analyze_laptop_price_correlations():\n",
    "    \"\"\"\n",
    "    Loads the fully preprocessed and normalized laptop data, calculates the\n",
    "    Pearson correlation of all features with the target variable 'Price',\n",
    "    and saves the results to a CSV file.\n",
    "    \"\"\"\n",
    "    try:\n",
    "        # --- 1. DEFINE FILE PATHS ---\n",
    "        base_dir = os.path.join(os.path.dirname(__file__), '..')\n",
    "        input_path = os.path.join(base_dir, 'data', 'train_data_transformed.csv')\n",
    "        output_path = os.path.join(base_dir, 'results', 'feature_price_correlations.csv')\n",
    "\n",
    "        # Create the results directory if it doesn't exist\n",
    "        os.makedirs(os.path.dirname(output_path), exist_ok=True)\n",
    "\n",
    "        # --- 2. LOAD THE TRANSFORMED DATA ---\n",
    "        print(f\"Loading transformed data from: {input_path}\")\n",
    "        df = pd.read_csv(input_path)\n",
    "\n",
    "        # --- 3. CALCULATE PEARSON CORRELATIONS ---\n",
    "        print(\"Calculating Pearson correlation of all features with 'Price'...\")\n",
    "        \n",
    "        # The .corr() method automatically handles the boolean/flag columns by treating them as 0 and 1\n",
    "        correlation_matrix = df.corr(method='pearson')\n",
    "        \n",
    "        # Isolate the correlations with the 'Price' column and sort them\n",
    "        price_correlations = correlation_matrix['Price'].sort_values(ascending=False)\n",
    "\n",
    "        # --- 4. SAVE THE RESULTS TO A CSV FILE ---\n",
    "        # Convert the Series to a DataFrame for saving\n",
    "        correlation_df = price_correlations.reset_index()\n",
    "        correlation_df.columns = ['Feature', 'Pearson_Correlation_with_Price']\n",
    "        \n",
    "        correlation_df.to_csv(output_path, index=False)\n",
    "        \n",
    "        print(f\"\\n--- Analysis Complete ---\")\n",
    "        print(f\"Correlation results saved to: {output_path}\")\n",
    "\n",
    "        # Display the top 10 most correlated features\n",
    "        print(\"\\nTop 10 features most positively correlated with Price:\")\n",
    "        print(correlation_df.head(11)) # .head(11) to include 'Price' itself\n",
    "\n",
    "    except FileNotFoundError:\n",
    "        print(f\"Error: The file '{os.path.basename(input_path)}' was not found.\")\n",
    "        print(\"Please run the data_preprocessing.py script first to generate the transformed data.\")\n",
    "    except Exception as e:\n",
    "        print(f\"An unexpected error occurred: {e}\")\n",
    "\n",
    "if __name__ == \"__main__\":\n",
    "    analyze_laptop_price_correlations()"
   ]
  },
  {
   "cell_type": "code",
   "execution_count": null,
   "id": "24eadb4c",
   "metadata": {
    "vscode": {
     "languageId": "plaintext"
    }
   },
   "outputs": [],
   "source": []
  }
 ],
 "metadata": {
  "language_info": {
   "name": "python"
  }
 },
 "nbformat": 4,
 "nbformat_minor": 5
}
