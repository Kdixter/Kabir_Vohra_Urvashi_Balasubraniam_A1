{
 "cells": [
  {
   "cell_type": "markdown",
   "id": "e82b5677",
   "metadata": {},
   "source": []
  },
  {
   "cell_type": "code",
   "execution_count": 39,
   "id": "0754c000",
   "metadata": {},
   "outputs": [
    {
     "ename": "KeyboardInterrupt",
     "evalue": "",
     "output_type": "error",
     "traceback": [
      "\u001b[0;31m---------------------------------------------------------------------------\u001b[0m",
      "\u001b[0;31mKeyboardInterrupt\u001b[0m                         Traceback (most recent call last)",
      "Cell \u001b[0;32mIn[39], line 6\u001b[0m\n\u001b[1;32m      3\u001b[0m \u001b[39mimport\u001b[39;00m\u001b[39m \u001b[39m\u001b[39msklearn\u001b[39;00m\u001b[39m.\u001b[39;00m\u001b[39mpreprocessing\u001b[39;00m\u001b[39m \u001b[39m\u001b[39mas\u001b[39;00m\u001b[39m \u001b[39m\u001b[39mMinMaxScaler\u001b[39;00m\n\u001b[1;32m      5\u001b[0m \u001b[39m# load dataset\u001b[39;00m\n\u001b[0;32m----> 6\u001b[0m df \u001b[39m=\u001b[39m pd\u001b[39m.\u001b[39;49mread_csv(\u001b[39m'\u001b[39;49m\u001b[39m/Users/urvashibalasubramaniam/Documents/GitHub/Kabir_Vohra_Urvashi_Balasubraniam_A1/retail_task/src/Retail.csv\u001b[39;49m\u001b[39m'\u001b[39;49m)\n",
      "File \u001b[0;32m/Library/Frameworks/Python.framework/Versions/3.10/lib/python3.10/site-packages/pandas/io/parsers/readers.py:1026\u001b[0m, in \u001b[0;36mread_csv\u001b[0;34m(filepath_or_buffer, sep, delimiter, header, names, index_col, usecols, dtype, engine, converters, true_values, false_values, skipinitialspace, skiprows, skipfooter, nrows, na_values, keep_default_na, na_filter, verbose, skip_blank_lines, parse_dates, infer_datetime_format, keep_date_col, date_parser, date_format, dayfirst, cache_dates, iterator, chunksize, compression, thousands, decimal, lineterminator, quotechar, quoting, doublequote, escapechar, comment, encoding, encoding_errors, dialect, on_bad_lines, delim_whitespace, low_memory, memory_map, float_precision, storage_options, dtype_backend)\u001b[0m\n\u001b[1;32m   1013\u001b[0m kwds_defaults \u001b[39m=\u001b[39m _refine_defaults_read(\n\u001b[1;32m   1014\u001b[0m     dialect,\n\u001b[1;32m   1015\u001b[0m     delimiter,\n\u001b[0;32m   (...)\u001b[0m\n\u001b[1;32m   1022\u001b[0m     dtype_backend\u001b[39m=\u001b[39mdtype_backend,\n\u001b[1;32m   1023\u001b[0m )\n\u001b[1;32m   1024\u001b[0m kwds\u001b[39m.\u001b[39mupdate(kwds_defaults)\n\u001b[0;32m-> 1026\u001b[0m \u001b[39mreturn\u001b[39;00m _read(filepath_or_buffer, kwds)\n",
      "File \u001b[0;32m/Library/Frameworks/Python.framework/Versions/3.10/lib/python3.10/site-packages/pandas/io/parsers/readers.py:626\u001b[0m, in \u001b[0;36m_read\u001b[0;34m(filepath_or_buffer, kwds)\u001b[0m\n\u001b[1;32m    623\u001b[0m     \u001b[39mreturn\u001b[39;00m parser\n\u001b[1;32m    625\u001b[0m \u001b[39mwith\u001b[39;00m parser:\n\u001b[0;32m--> 626\u001b[0m     \u001b[39mreturn\u001b[39;00m parser\u001b[39m.\u001b[39;49mread(nrows)\n",
      "File \u001b[0;32m/Library/Frameworks/Python.framework/Versions/3.10/lib/python3.10/site-packages/pandas/io/parsers/readers.py:1968\u001b[0m, in \u001b[0;36mTextFileReader.read\u001b[0;34m(self, nrows)\u001b[0m\n\u001b[1;32m   1965\u001b[0m     \u001b[39melse\u001b[39;00m:\n\u001b[1;32m   1966\u001b[0m         new_col_dict \u001b[39m=\u001b[39m col_dict\n\u001b[0;32m-> 1968\u001b[0m     df \u001b[39m=\u001b[39m DataFrame(\n\u001b[1;32m   1969\u001b[0m         new_col_dict,\n\u001b[1;32m   1970\u001b[0m         columns\u001b[39m=\u001b[39;49mcolumns,\n\u001b[1;32m   1971\u001b[0m         index\u001b[39m=\u001b[39;49mindex,\n\u001b[1;32m   1972\u001b[0m         copy\u001b[39m=\u001b[39;49m\u001b[39mnot\u001b[39;49;00m using_copy_on_write(),\n\u001b[1;32m   1973\u001b[0m     )\n\u001b[1;32m   1975\u001b[0m     \u001b[39mself\u001b[39m\u001b[39m.\u001b[39m_currow \u001b[39m+\u001b[39m\u001b[39m=\u001b[39m new_rows\n\u001b[1;32m   1976\u001b[0m \u001b[39mreturn\u001b[39;00m df\n",
      "File \u001b[0;32m/Library/Frameworks/Python.framework/Versions/3.10/lib/python3.10/site-packages/pandas/core/frame.py:778\u001b[0m, in \u001b[0;36mDataFrame.__init__\u001b[0;34m(self, data, index, columns, dtype, copy)\u001b[0m\n\u001b[1;32m    772\u001b[0m     mgr \u001b[39m=\u001b[39m \u001b[39mself\u001b[39m\u001b[39m.\u001b[39m_init_mgr(\n\u001b[1;32m    773\u001b[0m         data, axes\u001b[39m=\u001b[39m{\u001b[39m\"\u001b[39m\u001b[39mindex\u001b[39m\u001b[39m\"\u001b[39m: index, \u001b[39m\"\u001b[39m\u001b[39mcolumns\u001b[39m\u001b[39m\"\u001b[39m: columns}, dtype\u001b[39m=\u001b[39mdtype, copy\u001b[39m=\u001b[39mcopy\n\u001b[1;32m    774\u001b[0m     )\n\u001b[1;32m    776\u001b[0m \u001b[39melif\u001b[39;00m \u001b[39misinstance\u001b[39m(data, \u001b[39mdict\u001b[39m):\n\u001b[1;32m    777\u001b[0m     \u001b[39m# GH#38939 de facto copy defaults to False only in non-dict cases\u001b[39;00m\n\u001b[0;32m--> 778\u001b[0m     mgr \u001b[39m=\u001b[39m dict_to_mgr(data, index, columns, dtype\u001b[39m=\u001b[39;49mdtype, copy\u001b[39m=\u001b[39;49mcopy, typ\u001b[39m=\u001b[39;49mmanager)\n\u001b[1;32m    779\u001b[0m \u001b[39melif\u001b[39;00m \u001b[39misinstance\u001b[39m(data, ma\u001b[39m.\u001b[39mMaskedArray):\n\u001b[1;32m    780\u001b[0m     \u001b[39mfrom\u001b[39;00m\u001b[39m \u001b[39m\u001b[39mnumpy\u001b[39;00m\u001b[39m.\u001b[39;00m\u001b[39mma\u001b[39;00m\u001b[39m \u001b[39m\u001b[39mimport\u001b[39;00m mrecords\n",
      "File \u001b[0;32m/Library/Frameworks/Python.framework/Versions/3.10/lib/python3.10/site-packages/pandas/core/internals/construction.py:503\u001b[0m, in \u001b[0;36mdict_to_mgr\u001b[0;34m(data, index, columns, dtype, typ, copy)\u001b[0m\n\u001b[1;32m    499\u001b[0m     \u001b[39melse\u001b[39;00m:\n\u001b[1;32m    500\u001b[0m         \u001b[39m# dtype check to exclude e.g. range objects, scalars\u001b[39;00m\n\u001b[1;32m    501\u001b[0m         arrays \u001b[39m=\u001b[39m [x\u001b[39m.\u001b[39mcopy() \u001b[39mif\u001b[39;00m \u001b[39mhasattr\u001b[39m(x, \u001b[39m\"\u001b[39m\u001b[39mdtype\u001b[39m\u001b[39m\"\u001b[39m) \u001b[39melse\u001b[39;00m x \u001b[39mfor\u001b[39;00m x \u001b[39min\u001b[39;00m arrays]\n\u001b[0;32m--> 503\u001b[0m \u001b[39mreturn\u001b[39;00m arrays_to_mgr(arrays, columns, index, dtype\u001b[39m=\u001b[39;49mdtype, typ\u001b[39m=\u001b[39;49mtyp, consolidate\u001b[39m=\u001b[39;49mcopy)\n",
      "File \u001b[0;32m/Library/Frameworks/Python.framework/Versions/3.10/lib/python3.10/site-packages/pandas/core/internals/construction.py:152\u001b[0m, in \u001b[0;36marrays_to_mgr\u001b[0;34m(arrays, columns, index, dtype, verify_integrity, typ, consolidate)\u001b[0m\n\u001b[1;32m    149\u001b[0m axes \u001b[39m=\u001b[39m [columns, index]\n\u001b[1;32m    151\u001b[0m \u001b[39mif\u001b[39;00m typ \u001b[39m==\u001b[39m \u001b[39m\"\u001b[39m\u001b[39mblock\u001b[39m\u001b[39m\"\u001b[39m:\n\u001b[0;32m--> 152\u001b[0m     \u001b[39mreturn\u001b[39;00m create_block_manager_from_column_arrays(\n\u001b[1;32m    153\u001b[0m         arrays, axes, consolidate\u001b[39m=\u001b[39;49mconsolidate, refs\u001b[39m=\u001b[39;49mrefs\n\u001b[1;32m    154\u001b[0m     )\n\u001b[1;32m    155\u001b[0m \u001b[39melif\u001b[39;00m typ \u001b[39m==\u001b[39m \u001b[39m\"\u001b[39m\u001b[39marray\u001b[39m\u001b[39m\"\u001b[39m:\n\u001b[1;32m    156\u001b[0m     \u001b[39mreturn\u001b[39;00m ArrayManager(arrays, [index, columns])\n",
      "\u001b[0;31mKeyboardInterrupt\u001b[0m: "
     ]
    }
   ],
   "source": [
    "import pandas as pd\n",
    "import matplotlib.pyplot as plt\n",
    "import sklearn.preprocessing as MinMaxScaler\n",
    "\n",
    "# load dataset\n",
    "df = pd.read_csv('/Users/urvashibalasubramaniam/Documents/GitHub/Kabir_Vohra_Urvashi_Balasubraniam_A1/retail_task/src/Retail.csv')"
   ]
  },
  {
   "attachments": {},
   "cell_type": "markdown",
   "id": "117d066f",
   "metadata": {},
   "source": [
    "First, understanding the dataset by checking its (1) categories (2) stats"
   ]
  },
  {
   "cell_type": "code",
   "execution_count": null,
   "id": "0e8cb77a",
   "metadata": {},
   "outputs": [
    {
     "data": {
      "text/plain": [
       "Index(['age', 'gender', 'income_bracket', 'loyalty_program',\n",
       "       'membership_years', 'churned', 'marital_status', 'number_of_children',\n",
       "       'education_level', 'occupation', 'transaction_id', 'transaction_date',\n",
       "       'product_id', 'product_category', 'quantity', 'unit_price',\n",
       "       'discount_applied', 'payment_method', 'store_location',\n",
       "       'transaction_hour', 'day_of_week', 'week_of_year', 'month_of_year',\n",
       "       'avg_purchase_value', 'purchase_frequency', 'last_purchase_date',\n",
       "       'avg_discount_used', 'preferred_store', 'online_purchases',\n",
       "       'in_store_purchases', 'avg_items_per_transaction',\n",
       "       'avg_transaction_value', 'total_returned_items', 'total_returned_value',\n",
       "       'total_sales', 'total_transactions', 'total_items_purchased',\n",
       "       'total_discounts_received', 'avg_spent_per_category',\n",
       "       'max_single_purchase_value', 'min_single_purchase_value',\n",
       "       'product_name', 'product_brand', 'product_rating',\n",
       "       'product_review_count', 'product_stock', 'product_return_rate',\n",
       "       'product_size', 'product_weight', 'product_color', 'product_material',\n",
       "       'product_manufacture_date', 'product_expiry_date', 'product_shelf_life',\n",
       "       'promotion_id', 'promotion_type', 'promotion_start_date',\n",
       "       'promotion_end_date', 'promotion_effectiveness', 'promotion_channel',\n",
       "       'promotion_target_audience', 'customer_zip_code', 'customer_city',\n",
       "       'customer_state', 'store_zip_code', 'store_city', 'store_state',\n",
       "       'distance_to_store', 'holiday_season', 'season', 'weekend',\n",
       "       'customer_support_calls', 'email_subscriptions', 'app_usage',\n",
       "       'website_visits', 'social_media_engagement',\n",
       "       'days_since_last_purchase'],\n",
       "      dtype='object')"
      ]
     },
     "execution_count": 33,
     "metadata": {},
     "output_type": "execute_result"
    }
   ],
   "source": [
    "# categories\n",
    "df.columns"
   ]
  },
  {
   "cell_type": "code",
   "execution_count": null,
   "id": "7722ca87",
   "metadata": {},
   "outputs": [
    {
     "ename": "AttributeError",
     "evalue": "module 'matplotlib' has no attribute 'subplots'",
     "output_type": "error",
     "traceback": [
      "\u001b[0;31m---------------------------------------------------------------------------\u001b[0m",
      "\u001b[0;31mAttributeError\u001b[0m                            Traceback (most recent call last)",
      "Cell \u001b[0;32mIn[38], line 4\u001b[0m\n\u001b[1;32m      1\u001b[0m \u001b[39m# describe in common statistical terms\u001b[39;00m\n\u001b[1;32m      2\u001b[0m df\u001b[39m.\u001b[39mdescribe()\n\u001b[0;32m----> 4\u001b[0m fig, axs \u001b[39m=\u001b[39m plt\u001b[39m.\u001b[39;49msubplots(\u001b[39mlen\u001b[39m(df\u001b[39m.\u001b[39mcolumns), \u001b[39m1\u001b[39m, figsize\u001b[39m=\u001b[39m(\u001b[39m7\u001b[39m, \u001b[39m18\u001b[39m), dpi\u001b[39m=\u001b[39m\u001b[39m95\u001b[39m)\n\u001b[1;32m      5\u001b[0m \u001b[39mfor\u001b[39;00m i, col \u001b[39min\u001b[39;00m \u001b[39menumerate\u001b[39m(df\u001b[39m.\u001b[39mcolumns):\n\u001b[1;32m      6\u001b[0m     axs[i]\u001b[39m.\u001b[39mboxplot(df[col], vert\u001b[39m=\u001b[39m\u001b[39mFalse\u001b[39;00m)\n",
      "File \u001b[0;32m/Library/Frameworks/Python.framework/Versions/3.10/lib/python3.10/site-packages/matplotlib/_api/__init__.py:218\u001b[0m, in \u001b[0;36mcaching_module_getattr.<locals>.__getattr__\u001b[0;34m(name)\u001b[0m\n\u001b[1;32m    216\u001b[0m \u001b[39mif\u001b[39;00m name \u001b[39min\u001b[39;00m props:\n\u001b[1;32m    217\u001b[0m     \u001b[39mreturn\u001b[39;00m props[name]\u001b[39m.\u001b[39m\u001b[39m__get__\u001b[39m(instance)\n\u001b[0;32m--> 218\u001b[0m \u001b[39mraise\u001b[39;00m \u001b[39mAttributeError\u001b[39;00m(\n\u001b[1;32m    219\u001b[0m     \u001b[39mf\u001b[39m\u001b[39m\"\u001b[39m\u001b[39mmodule \u001b[39m\u001b[39m{\u001b[39;00m\u001b[39mcls\u001b[39m\u001b[39m.\u001b[39m\u001b[39m__module__\u001b[39m\u001b[39m!r}\u001b[39;00m\u001b[39m has no attribute \u001b[39m\u001b[39m{\u001b[39;00mname\u001b[39m!r}\u001b[39;00m\u001b[39m\"\u001b[39m)\n",
      "\u001b[0;31mAttributeError\u001b[0m: module 'matplotlib' has no attribute 'subplots'"
     ]
    }
   ],
   "source": [
    "# describe in common statistical terms\n",
    "df.describe()\n",
    "\n",
    "fig, axs = plt.subplots(len(df.columns), 1, figsize=(7, 18), dpi=95)\n",
    "for i, col in enumerate(df.columns):\n",
    "    axs[i].boxplot(df[col], vert=False)\n",
    "    axs[i].set_ylabel(col)\n",
    "plt.tight_layout()\n",
    "plt.show()"
   ]
  },
  {
   "cell_type": "code",
   "execution_count": null,
   "id": "aa48ab76",
   "metadata": {},
   "outputs": [
    {
     "name": "stdout",
     "output_type": "stream",
     "text": [
      "age                             41\n",
      "gender                      Female\n",
      "income_bracket              Medium\n",
      "loyalty_program                 No\n",
      "membership_years                 3\n",
      "                             ...  \n",
      "email_subscriptions             No\n",
      "app_usage                   Medium\n",
      "website_visits                   2\n",
      "social_media_engagement     Medium\n",
      "days_since_last_purchase         6\n",
      "Name: 0, Length: 77, dtype: object\n"
     ]
    }
   ],
   "source": [
    "# get categories (header values)\n",
    "print(df.iloc[0])"
   ]
  },
  {
   "cell_type": "code",
   "execution_count": null,
   "id": "70fd6cd0",
   "metadata": {},
   "outputs": [
    {
     "name": "stdout",
     "output_type": "stream",
     "text": [
      "<class 'pandas.core.frame.DataFrame'>\n",
      "RangeIndex: 800000 entries, 0 to 799999\n",
      "Data columns (total 77 columns):\n",
      " #   Column                     Non-Null Count   Dtype  \n",
      "---  ------                     --------------   -----  \n",
      " 0   age                        800000 non-null  int64  \n",
      " 1   gender                     800000 non-null  object \n",
      " 2   income_bracket             800000 non-null  object \n",
      " 3   loyalty_program            800000 non-null  object \n",
      " 4   membership_years           800000 non-null  int64  \n",
      " 5   churned                    800000 non-null  object \n",
      " 6   marital_status             800000 non-null  object \n",
      " 7   number_of_children         800000 non-null  int64  \n",
      " 8   education_level            800000 non-null  object \n",
      " 9   occupation                 800000 non-null  object \n",
      " 10  transaction_id             800000 non-null  int64  \n",
      " 11  transaction_date           800000 non-null  object \n",
      " 12  product_id                 800000 non-null  int64  \n",
      " 13  product_category           800000 non-null  object \n",
      " 14  quantity                   800000 non-null  int64  \n",
      " 15  unit_price                 800000 non-null  float64\n",
      " 16  discount_applied           800000 non-null  float64\n",
      " 17  payment_method             800000 non-null  object \n",
      " 18  store_location             800000 non-null  object \n",
      " 19  transaction_hour           800000 non-null  int64  \n",
      " 20  day_of_week                800000 non-null  object \n",
      " 21  week_of_year               800000 non-null  int64  \n",
      " 22  month_of_year              800000 non-null  int64  \n",
      " 23  avg_purchase_value         800000 non-null  float64\n",
      " 24  purchase_frequency         800000 non-null  object \n",
      " 25  last_purchase_date         800000 non-null  object \n",
      " 26  avg_discount_used          800000 non-null  float64\n",
      " 27  preferred_store            800000 non-null  object \n",
      " 28  online_purchases           800000 non-null  int64  \n",
      " 29  in_store_purchases         800000 non-null  int64  \n",
      " 30  avg_items_per_transaction  800000 non-null  float64\n",
      " 31  avg_transaction_value      800000 non-null  float64\n",
      " 32  total_returned_items       800000 non-null  int64  \n",
      " 33  total_returned_value       800000 non-null  float64\n",
      " 34  total_sales                800000 non-null  float64\n",
      " 35  total_transactions         800000 non-null  int64  \n",
      " 36  total_items_purchased      800000 non-null  int64  \n",
      " 37  total_discounts_received   800000 non-null  float64\n",
      " 38  avg_spent_per_category     800000 non-null  float64\n",
      " 39  max_single_purchase_value  800000 non-null  float64\n",
      " 40  min_single_purchase_value  800000 non-null  float64\n",
      " 41  product_name               800000 non-null  object \n",
      " 42  product_brand              800000 non-null  object \n",
      " 43  product_rating             800000 non-null  float64\n",
      " 44  product_review_count       800000 non-null  int64  \n",
      " 45  product_stock              800000 non-null  int64  \n",
      " 46  product_return_rate        800000 non-null  float64\n",
      " 47  product_size               800000 non-null  object \n",
      " 48  product_weight             800000 non-null  float64\n",
      " 49  product_color              800000 non-null  object \n",
      " 50  product_material           800000 non-null  object \n",
      " 51  product_manufacture_date   800000 non-null  object \n",
      " 52  product_expiry_date        800000 non-null  object \n",
      " 53  product_shelf_life         800000 non-null  int64  \n",
      " 54  promotion_id               800000 non-null  int64  \n",
      " 55  promotion_type             800000 non-null  object \n",
      " 56  promotion_start_date       800000 non-null  object \n",
      " 57  promotion_end_date         800000 non-null  object \n",
      " 58  promotion_effectiveness    800000 non-null  object \n",
      " 59  promotion_channel          800000 non-null  object \n",
      " 60  promotion_target_audience  800000 non-null  object \n",
      " 61  customer_zip_code          800000 non-null  int64  \n",
      " 62  customer_city              800000 non-null  object \n",
      " 63  customer_state             800000 non-null  object \n",
      " 64  store_zip_code             800000 non-null  int64  \n",
      " 65  store_city                 800000 non-null  object \n",
      " 66  store_state                800000 non-null  object \n",
      " 67  distance_to_store          800000 non-null  float64\n",
      " 68  holiday_season             800000 non-null  object \n",
      " 69  season                     800000 non-null  object \n",
      " 70  weekend                    800000 non-null  object \n",
      " 71  customer_support_calls     800000 non-null  int64  \n",
      " 72  email_subscriptions        800000 non-null  object \n",
      " 73  app_usage                  800000 non-null  object \n",
      " 74  website_visits             800000 non-null  int64  \n",
      " 75  social_media_engagement    800000 non-null  object \n",
      " 76  days_since_last_purchase   800000 non-null  int64  \n",
      "dtypes: float64(16), int64(23), object(38)\n",
      "memory usage: 470.0+ MB\n"
     ]
    }
   ],
   "source": [
    "# check for missing values\n",
    "df.info() # will give us count of non-null entries, among other things"
   ]
  },
  {
   "attachments": {},
   "cell_type": "markdown",
   "id": "9082805f",
   "metadata": {},
   "source": [
    "All columns have n (80,000) non-null values => no missing fields!"
   ]
  },
  {
   "cell_type": "code",
   "execution_count": null,
   "id": "69ffb695",
   "metadata": {},
   "outputs": [],
   "source": [
    "# removing outliers using interquartile range method (TBD)"
   ]
  }
 ],
 "metadata": {
  "kernelspec": {
   "display_name": "Python 3",
   "language": "python",
   "name": "python3"
  },
  "language_info": {
   "codemirror_mode": {
    "name": "ipython",
    "version": 3
   },
   "file_extension": ".py",
   "mimetype": "text/x-python",
   "name": "python",
   "nbconvert_exporter": "python",
   "pygments_lexer": "ipython3",
   "version": "3.10.0"
  }
 },
 "nbformat": 4,
 "nbformat_minor": 5
}
